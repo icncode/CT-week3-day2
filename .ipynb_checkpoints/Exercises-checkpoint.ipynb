{
 "cells": [
  {
   "cell_type": "markdown",
   "metadata": {},
   "source": [
    "#### Exercise 1 - Class Inheritance"
   ]
  },
  {
   "cell_type": "markdown",
   "metadata": {},
   "source": [
    "Create an Employee class that sets an employee's first name, last name, job title, salary, and email. The Employee class should have a class attribute for the raise amount set to 5% (1.05). Create a method that will apply the raise to an employee's salary."
   ]
  },
  {
   "cell_type": "code",
   "execution_count": 119,
   "metadata": {},
   "outputs": [
    {
     "name": "stdout",
     "output_type": "stream",
     "text": [
      "Congratulations Lukas Reeves, you have received a raise and your new salary is $105000\n"
     ]
    }
   ],
   "source": [
    "# Parent Employee Class\n",
    "class Employee:\n",
    "    raise_amount = 1.05\n",
    "    \n",
    "    def __init__(self, first, last, title, salary, email):\n",
    "        self.first = first\n",
    "        self.last = last\n",
    "        self.title = title\n",
    "        self.salary = salary\n",
    "        self.email = email\n",
    "        \n",
    "    \n",
    "    def apply_raise(self):\n",
    "        self.salary *= self.raise_amount\n",
    "        print(f'Congratulations {self.first} {self.last}, you have received a raise and your new salary is ${int(self.salary)}')\n",
    "        \n",
    "\n",
    "\n",
    "emp1 = Employee('Lukas', 'Reeves', 'Electrical Engineer', 100000, 'lreeves@engineer.com')\n",
    "emp1.apply_raise()"
   ]
  },
  {
   "cell_type": "markdown",
   "metadata": {},
   "source": [
    "Create two more classes that inherit from the Employee class. One for Sales and one for Development. Both of these classes will have the same attributes as the Employee.<br>\n",
    "- For the Sales employees, add a phone number attribute on instantiation using the super method. \n",
    "- Create a method on the Sales class that will Send a Follow Up Email. It should take in a customer name and \"send\" aka print a formatted email \"Dear *customer*, Thank you for your interest in our product. Please let me know if you have any questions. My email is *email* or my phone number is *phone number*. Thanks, *full name*\"\n",
    "- Create a method on the Development class called code that will print out \"*full name* is writing code\"."
   ]
  },
  {
   "cell_type": "code",
   "execution_count": 126,
   "metadata": {},
   "outputs": [],
   "source": [
    "# Two Children Classes - Sales + Development\n",
    "class Sales(Employee):\n",
    "    def __init__(self, first, last, title, salary, email, phone_number):\n",
    "        super().__init__(first, last, title, salary, email)\n",
    "        self.phone_number = phone_number\n",
    "        \n",
    "    def follow_up_email(self, customer):\n",
    "        print(f\"Dear {customer}, Thank you for your interest in our product. Please let me know if you have any questions. My email is {self.email} or my phone number is {self.phone_number}. Thanks, {self.first} {self.last}\\n\")\n",
    "        \n",
    "class Development(Employee):\n",
    "    def is_writing(self):\n",
    "        print(f'{self.first} {self.last} is writing code.\\n')\n",
    "\n",
    "\n",
    "emp1 = Sales('Lukas', 'Reeves', 'Electrical Engineer', 100000, 'lreeves@engineer.com', '(939)539-5843')\n",
    "emp1 = Development('Lukas', 'Reeves', 'Electrical Engineer', 100000, 'lreeves@engineer.com')\n"
   ]
  },
  {
   "cell_type": "markdown",
   "metadata": {},
   "source": [
    "- Create an instance of a Sales Employee with a salary of $50,000.\n",
    "- Send follow up emails to \"Mike O'Neil\" and \"Hannah Stern\"\n",
    "- Give the employee a raise and print the salary"
   ]
  },
  {
   "cell_type": "code",
   "execution_count": 121,
   "metadata": {},
   "outputs": [
    {
     "name": "stdout",
     "output_type": "stream",
     "text": [
      "Dear Mike O'Neil, Thank you for your interest in our product. Please let me know if you have any questions. My email is jrancher@sales.com or my phone number is (411) 109-1298. Thanks, Jennifer Rancher\n",
      "\n",
      "Dear Hannah Stern, Thank you for your interest in our product. Please let me know if you have any questions. My email is jrancher@sales.com or my phone number is (411) 109-1298. Thanks, Jennifer Rancher\n",
      "\n",
      "Congratulations Jennifer Rancher, you have received a raise and your new salary is $52500\n"
     ]
    }
   ],
   "source": [
    "emp2 = Sales(\"Jennifer\", \"Rancher\", 'Seller', 50000, 'jrancher@sales.com', '(411) 109-1298')\n",
    "emp2.follow_up_email(\"Mike O'Neil\")\n",
    "emp2 = Sales(\"Jennifer\", \"Rancher\", 'Seller', 50000, 'jrancher@sales.com', '(411) 109-1298')\n",
    "emp2.follow_up_email(\"Hannah Stern\")\n",
    "emp2.apply_raise()"
   ]
  },
  {
   "cell_type": "markdown",
   "metadata": {},
   "source": [
    "- Create an instance of a Development Employee with a salary of $100,000\n",
    "- Write some code with this employee\n",
    "- Give the employee a raise and print the salary"
   ]
  },
  {
   "cell_type": "code",
   "execution_count": 127,
   "metadata": {},
   "outputs": [
    {
     "name": "stdout",
     "output_type": "stream",
     "text": [
      "Jake Glands is writing code.\n",
      "\n",
      "Congratulations Jake Glands, you have received a raise and your new salary is $105000\n"
     ]
    }
   ],
   "source": [
    "emp3 = Development('Jake', 'Glands', 'Electrical Engineer', 100000, 'lreeves@engineer.com')\n",
    "emp3.is_writing()\n",
    "emp3.apply_raise()"
   ]
  },
  {
   "cell_type": "markdown",
   "metadata": {},
   "source": [
    "#### Exercise 2 - Importing Modules"
   ]
  },
  {
   "cell_type": "markdown",
   "metadata": {},
   "source": [
    "In VS Code, create a module titled `geometry` and add two functions in there. One that will calculate the area of a circle given a radius. The second will find the hypotenuse of a right angle given the two sides. Import the module or the functions from the module and use it to find the answers to the below questions"
   ]
  },
  {
   "cell_type": "markdown",
   "metadata": {},
   "source": [
    "What is the area of a circle with a radius of 7cm?"
   ]
  },
  {
   "cell_type": "code",
   "execution_count": 174,
   "metadata": {},
   "outputs": [],
   "source": [
    "# 153.93804002589985\n",
    "\n",
    "import geometry"
   ]
  },
  {
   "cell_type": "code",
   "execution_count": 175,
   "metadata": {},
   "outputs": [
    {
     "ename": "AttributeError",
     "evalue": "module 'geometry' has no attribute 'area'",
     "output_type": "error",
     "traceback": [
      "\u001b[1;31m---------------------------------------------------------------------------\u001b[0m",
      "\u001b[1;31mAttributeError\u001b[0m                            Traceback (most recent call last)",
      "\u001b[1;32m~\\AppData\\Local\\Temp\\ipykernel_10224\\2060993274.py\u001b[0m in \u001b[0;36m<module>\u001b[1;34m\u001b[0m\n\u001b[1;32m----> 1\u001b[1;33m \u001b[0mgeometry\u001b[0m\u001b[1;33m.\u001b[0m\u001b[0marea\u001b[0m\u001b[1;33m(\u001b[0m\u001b[1;36m7\u001b[0m\u001b[1;33m)\u001b[0m\u001b[1;33m\u001b[0m\u001b[1;33m\u001b[0m\u001b[0m\n\u001b[0m",
      "\u001b[1;31mAttributeError\u001b[0m: module 'geometry' has no attribute 'area'"
     ]
    }
   ],
   "source": [
    "geometry.area(7)"
   ]
  },
  {
   "cell_type": "code",
   "execution_count": 176,
   "metadata": {},
   "outputs": [
    {
     "name": "stdout",
     "output_type": "stream",
     "text": [
      "Goodbye Tatyana, it was a pleasure seeing you.\n"
     ]
    }
   ],
   "source": [
    "geometry.leave('Tatyana')"
   ]
  },
  {
   "cell_type": "markdown",
   "metadata": {},
   "source": [
    "What is the hypotenuse of a right angle with sides of 3in and 4in?"
   ]
  },
  {
   "cell_type": "code",
   "execution_count": null,
   "metadata": {},
   "outputs": [],
   "source": [
    "# 5 in"
   ]
  }
 ],
 "metadata": {
  "kernelspec": {
   "display_name": "Python 3 (ipykernel)",
   "language": "python",
   "name": "python3"
  },
  "language_info": {
   "codemirror_mode": {
    "name": "ipython",
    "version": 3
   },
   "file_extension": ".py",
   "mimetype": "text/x-python",
   "name": "python",
   "nbconvert_exporter": "python",
   "pygments_lexer": "ipython3",
   "version": "3.9.13"
  }
 },
 "nbformat": 4,
 "nbformat_minor": 4
}
